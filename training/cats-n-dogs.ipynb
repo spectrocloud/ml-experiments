{
 "cells": [
  {
   "cell_type": "markdown",
   "metadata": {},
   "source": [
    "# Image classification example (Cats-n-Dogs)\n",
    "The open-source application “Cats-n-dogs” (link) will with some level of certainty take a guess as to whether an uploaded picture is a “Cat” or “Dog”. It’s quite basic with a rudimentary binary classification, and incorrectly predicts “Dog” when presented a picture of a cake (though probably influenced by training data pictures of dogs enjoying apple pies).\n",
    "\n",
    "In this module we'll:\n",
    "- Data \n",
    "- TODO\n",
    "\n",
    "This example is closely based on https://www.kaggle.com/bavalpreet26/cnn-tutorial-keras-nb2. "
   ]
  },
  {
   "cell_type": "markdown",
   "metadata": {},
   "source": [
    "## Install Required Libraries\n",
    "\n",
    "Import all the various libraries we'll be using in this module"
   ]
  },
  {
   "cell_type": "code",
   "execution_count": null,
   "metadata": {},
   "outputs": [],
   "source": [
    "%pip install scikit-learn"
   ]
  },
  {
   "cell_type": "markdown",
   "metadata": {},
   "source": [
    "After installing python dependencies, make sure to restart the Kernel:\n",
    "* From the menu: Kernel -> Restart\n",
    "\n",
    "And then proceed with importing the libraries:"
   ]
  },
  {
   "cell_type": "code",
   "execution_count": null,
   "metadata": {},
   "outputs": [],
   "source": [
    "import numpy as np\n",
    "import tensorflow as tf\n",
    "from tensorflow import keras\n",
    "from tensorflow.keras.models import Sequential\n",
    "from tensorflow.keras.layers import Activation, Dense, Flatten, BatchNormalization, Conv2D, MaxPool2D\n",
    "from tensorflow.keras.optimizers import Adam\n",
    "from tensorflow.keras.metrics import categorical_crossentropy\n",
    "from tensorflow.keras.preprocessing.image import ImageDataGenerator\n",
    "from sklearn.metrics import confusion_matrix\n",
    "from sklearn.model_selection import KFold\n",
    "import itertools\n",
    "import os\n",
    "import shutil\n",
    "import random\n",
    "import glob\n",
    "import matplotlib.pyplot as plt\n",
    "import warnings\n",
    "#warnings.simplefilter(action='ignore', category=FutureWarning)\n",
    "%matplotlib inline\n"
   ]
  },
  {
   "cell_type": "markdown",
   "metadata": {},
   "source": [
    "## Data Import"
   ]
  },
  {
   "cell_type": "code",
   "execution_count": 11,
   "metadata": {},
   "outputs": [
    {
     "name": "stdout",
     "output_type": "stream",
     "text": [
      "Begin downloading dataset, this may take some time...\n",
      "Dataset downloaded, beginning extraction...\n",
      "Done!\n"
     ]
    }
   ],
   "source": [
    "import urllib.request\n",
    "url = 'https://s3.amazonaws.com/ml-experiments.spectrocloud.com/cats-n-dogs/cats-n-dogs-dataset.tar.gz'\n",
    "filename = 'dataset.tar.gz'\n",
    "\n",
    "print(\"Begin downloading dataset, this may take some time...\")\n",
    "urllib.request.urlretrieve(url, filename)\n",
    "print(\"Dataset downloaded, beginning extraction...\")\n",
    "shutil.unpack_archive(filename, \"dataset\")\n",
    "print(\"Done!\")"
   ]
  },
  {
   "cell_type": "code",
   "execution_count": 10,
   "metadata": {},
   "outputs": [],
   "source": []
  },
  {
   "cell_type": "code",
   "execution_count": null,
   "metadata": {},
   "outputs": [],
   "source": [
    "\n",
    "train_path = '/mnt/data/training_set'\n",
    "test_path = '/mnt/data/test_set'\n",
    "\n",
    "train_path = 'data/training_set'\n",
    "test_path = 'data/test_set'\n",
    "\n",
    "# valid_path = 'data/dogs-vs-cats/valid'\n",
    "# test_path = '../input/cat-and-dog/test_set/test_set'"
   ]
  },
  {
   "cell_type": "markdown",
   "metadata": {},
   "source": [
    "## Make sure to git push!!!"
   ]
  },
  {
   "cell_type": "code",
   "execution_count": null,
   "metadata": {},
   "outputs": [],
   "source": []
  }
 ],
 "metadata": {
  "kernelspec": {
   "display_name": "Python 3",
   "language": "python",
   "name": "python3"
  },
  "language_info": {
   "codemirror_mode": {
    "name": "ipython",
    "version": 3
   },
   "file_extension": ".py",
   "mimetype": "text/x-python",
   "name": "python",
   "nbconvert_exporter": "python",
   "pygments_lexer": "ipython3",
   "version": "3.6.9"
  }
 },
 "nbformat": 4,
 "nbformat_minor": 4
}
