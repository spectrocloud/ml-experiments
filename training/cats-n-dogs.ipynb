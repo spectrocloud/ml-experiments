{
 "cells": [
  {
   "cell_type": "markdown",
   "metadata": {},
   "source": [
    "# Image classification example (Cats-n-Dogs)\n",
    "The open-source application “Cats-n-dogs” (link) will with some level of certainty take a guess as to whether an uploaded picture is a “Cat” or “Dog”. It’s quite basic with a rudimentary binary classification, and incorrectly predicts “Dog” when presented a picture of a cake (though probably influenced by training data pictures of dogs enjoying apple pies).\n",
    "\n",
    "In this module we'll:\n",
    "- Data \n",
    "- TODO"
   ]
  },
  {
   "cell_type": "code",
   "execution_count": null,
   "metadata": {},
   "outputs": [],
   "source": []
  }
 ],
 "metadata": {
  "kernelspec": {
   "display_name": "Python 3",
   "language": "python",
   "name": "python3"
  },
  "language_info": {
   "codemirror_mode": {
    "name": "ipython",
    "version": 3
   },
   "file_extension": ".py",
   "mimetype": "text/x-python",
   "name": "python",
   "nbconvert_exporter": "python",
   "pygments_lexer": "ipython3",
   "version": "3.6.9"
  }
 },
 "nbformat": 4,
 "nbformat_minor": 4
}
